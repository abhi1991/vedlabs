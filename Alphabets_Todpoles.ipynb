{
  "nbformat": 4,
  "nbformat_minor": 0,
  "metadata": {
    "colab": {
      "name": "Alphabets_Todpoles.ipynb",
      "version": "0.3.2",
      "provenance": [],
      "private_outputs": true,
      "collapsed_sections": [],
      "include_colab_link": true
    },
    "kernelspec": {
      "name": "python3",
      "display_name": "Python 3"
    },
    "accelerator": "GPU"
  },
  "cells": [
    {
      "cell_type": "markdown",
      "metadata": {
        "id": "view-in-github",
        "colab_type": "text"
      },
      "source": [
        "<a href=\"https://colab.research.google.com/github/abhi1991/vedlabs/blob/master/Alphabets_Todpoles.ipynb\" target=\"_parent\"><img src=\"https://colab.research.google.com/assets/colab-badge.svg\" alt=\"Open In Colab\"/></a>"
      ]
    },
    {
      "cell_type": "code",
      "metadata": {
        "id": "VPlpd1ADHHCH",
        "colab_type": "code",
        "colab": {}
      },
      "source": [
        "from google.colab import drive\n",
        "drive.mount('/content/drive')"
      ],
      "execution_count": 0,
      "outputs": []
    },
    {
      "cell_type": "code",
      "metadata": {
        "id": "dsYJpBKR-7lj",
        "colab_type": "code",
        "colab": {}
      },
      "source": [
        "ls -l"
      ],
      "execution_count": 0,
      "outputs": []
    },
    {
      "cell_type": "code",
      "metadata": {
        "id": "_5uH7mNuSbxM",
        "colab_type": "code",
        "colab": {}
      },
      "source": [
        "!git clone https://github.com/abhi1991/darknet.git\n",
        "%cd darknet"
      ],
      "execution_count": 0,
      "outputs": []
    },
    {
      "cell_type": "code",
      "metadata": {
        "id": "O4bA1oA3IXnB",
        "colab_type": "code",
        "colab": {}
      },
      "source": [
        "!cp /content/drive/My\\ Drive/backup/dataset.zip /content/darknet/\n",
        "!ls -l"
      ],
      "execution_count": 0,
      "outputs": []
    },
    {
      "cell_type": "code",
      "metadata": {
        "id": "znaoXYL7MJqp",
        "colab_type": "code",
        "colab": {}
      },
      "source": [
        "!unzip dataset.zip \n",
        "!ls -l"
      ],
      "execution_count": 0,
      "outputs": []
    },
    {
      "cell_type": "code",
      "metadata": {
        "id": "sk5dtDOFMk6U",
        "colab_type": "code",
        "colab": {}
      },
      "source": [
        "%cd dataset\n",
        "!wget https://pjreddie.com/media/files/darknet19_448.conv.23"
      ],
      "execution_count": 0,
      "outputs": []
    },
    {
      "cell_type": "code",
      "metadata": {
        "id": "f2zj0231AmJr",
        "colab_type": "code",
        "colab": {}
      },
      "source": [
        "!mv yolov2-tiny.cfg.txt yolov2-tiny.cfg"
      ],
      "execution_count": 0,
      "outputs": []
    },
    {
      "cell_type": "code",
      "metadata": {
        "id": "daP08fp-A1tT",
        "colab_type": "code",
        "colab": {}
      },
      "source": [
        "!chmod +x yolov2-tiny.cfg "
      ],
      "execution_count": 0,
      "outputs": []
    },
    {
      "cell_type": "code",
      "metadata": {
        "id": "-woE29znBKb9",
        "colab_type": "code",
        "colab": {}
      },
      "source": [
        "!chmod +x *.txt"
      ],
      "execution_count": 0,
      "outputs": []
    },
    {
      "cell_type": "markdown",
      "metadata": {
        "id": "4lZNfdBORlfP",
        "colab_type": "text"
      },
      "source": [
        "Check chmod +x is needed or not"
      ]
    },
    {
      "cell_type": "code",
      "metadata": {
        "id": "nCf8GaVuEThM",
        "colab_type": "code",
        "colab": {}
      },
      "source": [
        "cd .."
      ],
      "execution_count": 0,
      "outputs": []
    },
    {
      "cell_type": "code",
      "metadata": {
        "id": "tDP9W9inDBPY",
        "colab_type": "code",
        "colab": {}
      },
      "source": [
        "from google.colab import files\n",
        "files.upload()"
      ],
      "execution_count": 0,
      "outputs": []
    },
    {
      "cell_type": "code",
      "metadata": {
        "id": "_AOqgmtRUssd",
        "colab_type": "code",
        "colab": {}
      },
      "source": [
        "!make"
      ],
      "execution_count": 0,
      "outputs": []
    },
    {
      "cell_type": "code",
      "metadata": {
        "id": "lCT2LaU5S0AE",
        "colab_type": "code",
        "colab": {}
      },
      "source": [
        "!mv dataset/darknet19_448.conv.23 .\n",
        "!ls -l"
      ],
      "execution_count": 0,
      "outputs": []
    },
    {
      "cell_type": "markdown",
      "metadata": {
        "id": "88KLI4c4Uwl_",
        "colab_type": "text"
      },
      "source": [
        "Start Training"
      ]
    },
    {
      "cell_type": "code",
      "metadata": {
        "id": "7oq82wjnMWIW",
        "colab_type": "code",
        "colab": {}
      },
      "source": [
        "ls -l"
      ],
      "execution_count": 0,
      "outputs": []
    },
    {
      "cell_type": "code",
      "metadata": {
        "id": "NMN0A8XDMYvO",
        "colab_type": "code",
        "colab": {}
      },
      "source": [
        "!./darknet detector test dataset/obj.data dataset/yolov2-tiny.cfg backup/yolov2-tiny_last.weights dataset/images/G34.jpg\n"
      ],
      "execution_count": 0,
      "outputs": []
    },
    {
      "cell_type": "code",
      "metadata": {
        "id": "2dU-zWVdP3MD",
        "colab_type": "code",
        "colab": {}
      },
      "source": [
        "!git clone https://github.com/thtrieu/darkflow.git"
      ],
      "execution_count": 0,
      "outputs": []
    },
    {
      "cell_type": "code",
      "metadata": {
        "id": "t9psUKoPRihJ",
        "colab_type": "code",
        "colab": {}
      },
      "source": [
        "cd darkflow/"
      ],
      "execution_count": 0,
      "outputs": []
    },
    {
      "cell_type": "code",
      "metadata": {
        "id": "hf6iRvqPRloR",
        "colab_type": "code",
        "colab": {}
      },
      "source": [
        "ls -l"
      ],
      "execution_count": 0,
      "outputs": []
    },
    {
      "cell_type": "code",
      "metadata": {
        "id": "h55o4on6SffP",
        "colab_type": "code",
        "colab": {}
      },
      "source": [
        "!python3 setup.py build_ext --inplace"
      ],
      "execution_count": 0,
      "outputs": []
    },
    {
      "cell_type": "code",
      "metadata": {
        "id": "Jug1BCGoWhFh",
        "colab_type": "code",
        "colab": {}
      },
      "source": [
        "%cd built_graph/\n",
        "!ls -l"
      ],
      "execution_count": 0,
      "outputs": []
    },
    {
      "cell_type": "code",
      "metadata": {
        "id": "ZR_ETRGTXU1x",
        "colab_type": "code",
        "colab": {}
      },
      "source": [
        "cp ../built_graph/* /content/drive/My\\ Drive/backup/backup/"
      ],
      "execution_count": 0,
      "outputs": []
    },
    {
      "cell_type": "code",
      "metadata": {
        "id": "xdogVYW9VL0K",
        "colab_type": "code",
        "colab": {}
      },
      "source": [
        "!flow --model ../darknet/dataset/yolov2-tiny.cfg --load ../darknet/backup/yolov2-tiny_last.weights --savepb"
      ],
      "execution_count": 0,
      "outputs": []
    },
    {
      "cell_type": "code",
      "metadata": {
        "id": "BblVsLPqXzV9",
        "colab_type": "code",
        "colab": {}
      },
      "source": [
        "pip install --upgrade \"tensorflow==1.7.*\""
      ],
      "execution_count": 0,
      "outputs": []
    },
    {
      "cell_type": "code",
      "metadata": {
        "id": "ZZtqCFwlYJCb",
        "colab_type": "code",
        "colab": {}
      },
      "source": [
        "!tflite_convert \\\n",
        "  --graph_def_file=built_graph/yolov2-tiny.pb \\\n",
        "  --output_file=built_graph/yolov2_graph.lite \\\n",
        "  --input_format=TENSORFLOW_GRAPHDEF \\\n",
        "  --output_format=TFLITE \\\n",
        "  --input_shape=1,416,416,3 \\\n",
        "  --input_array=input \\\n",
        "  --output_array=output \\\n",
        "  --inference_type=FLOAT \\\n",
        "  --input_data_type=FLOAT\n"
      ],
      "execution_count": 0,
      "outputs": []
    },
    {
      "cell_type": "code",
      "metadata": {
        "id": "du0RpuDNZOQa",
        "colab_type": "code",
        "colab": {}
      },
      "source": [
        "!./bazel-0.28.1-installer-linux-x86_64.sh"
      ],
      "execution_count": 0,
      "outputs": []
    },
    {
      "cell_type": "code",
      "metadata": {
        "id": "mueoqkS1o4Jr",
        "colab_type": "code",
        "colab": {}
      },
      "source": [
        "!git clone https://github.com/tensorflow/tensorflow"
      ],
      "execution_count": 0,
      "outputs": []
    },
    {
      "cell_type": "code",
      "metadata": {
        "id": "zCZCm4NNdUqa",
        "colab_type": "code",
        "colab": {}
      },
      "source": [
        "!bazel build tensorflow/lite/toco:toco\n"
      ],
      "execution_count": 0,
      "outputs": []
    },
    {
      "cell_type": "code",
      "metadata": {
        "id": "HC_agN0HzxRj",
        "colab_type": "code",
        "colab": {}
      },
      "source": [
        "!bazel-bin/tensorflow/lite/toco/toco --help"
      ],
      "execution_count": 0,
      "outputs": []
    },
    {
      "cell_type": "code",
      "metadata": {
        "id": "B1xTaEWO0EJ4",
        "colab_type": "code",
        "colab": {}
      },
      "source": [
        "!./bazel-bin/tensorflow/lite/toco/toco \\\n",
        "  --input_file=../built_graph/yolov2-tiny.pb \\\n",
        "  --output_file=../built_graph/yolov2_graph.tflite \\\n",
        "  --input_format=TENSORFLOW_GRAPHDEF \\\n",
        "  --output_format=TFLITE \\\n",
        "  --input_arrays=input \\\n",
        "  --input_shapes=1,416,416,3 \\\n",
        "  --output_arrays=output"
      ],
      "execution_count": 0,
      "outputs": []
    },
    {
      "cell_type": "code",
      "metadata": {
        "id": "nFMNhwaO0Hhx",
        "colab_type": "code",
        "colab": {}
      },
      "source": [
        "cp /content/darkflow/built_graph/yolov2_graph.tflite /content/drive/My\\ Drive/backup/backup "
      ],
      "execution_count": 0,
      "outputs": []
    },
    {
      "cell_type": "code",
      "metadata": {
        "id": "c3g1Tmn9B7v4",
        "colab_type": "code",
        "colab": {}
      },
      "source": [
        ""
      ],
      "execution_count": 0,
      "outputs": []
    },
    {
      "cell_type": "code",
      "metadata": {
        "id": "Is9YMnpv1T_5",
        "colab_type": "code",
        "colab": {}
      },
      "source": [
        "wget"
      ],
      "execution_count": 0,
      "outputs": []
    }
  ]
}